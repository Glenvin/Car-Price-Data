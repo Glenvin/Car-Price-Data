{
 "cells": [
  {
   "cell_type": "code",
   "execution_count": 2,
   "id": "7fcfd486",
   "metadata": {},
   "outputs": [],
   "source": [
    "import pandas as pd\n",
    "import seaborn as sns"
   ]
  },
  {
   "cell_type": "code",
   "execution_count": 3,
   "id": "4541bc0c",
   "metadata": {},
   "outputs": [
    {
     "data": {
      "text/html": [
       "<div>\n",
       "<style scoped>\n",
       "    .dataframe tbody tr th:only-of-type {\n",
       "        vertical-align: middle;\n",
       "    }\n",
       "\n",
       "    .dataframe tbody tr th {\n",
       "        vertical-align: top;\n",
       "    }\n",
       "\n",
       "    .dataframe thead th {\n",
       "        text-align: right;\n",
       "    }\n",
       "</style>\n",
       "<table border=\"1\" class=\"dataframe\">\n",
       "  <thead>\n",
       "    <tr style=\"text-align: right;\">\n",
       "      <th></th>\n",
       "      <th>Name</th>\n",
       "      <th>Price($)</th>\n",
       "      <th>Milage</th>\n",
       "      <th>Review</th>\n",
       "      <th>Review_count</th>\n",
       "      <th>Badge</th>\n",
       "    </tr>\n",
       "  </thead>\n",
       "  <tbody>\n",
       "    <tr>\n",
       "      <th>0</th>\n",
       "      <td>2021 Toyota Camry SE</td>\n",
       "      <td>31,150</td>\n",
       "      <td>13,390</td>\n",
       "      <td>4.5</td>\n",
       "      <td>659</td>\n",
       "      <td>Good Deal</td>\n",
       "    </tr>\n",
       "    <tr>\n",
       "      <th>1</th>\n",
       "      <td>2021 Toyota Supra 3.0 Premium</td>\n",
       "      <td>58,981</td>\n",
       "      <td>7,348</td>\n",
       "      <td>4.8</td>\n",
       "      <td>2,744</td>\n",
       "      <td>Great Deal</td>\n",
       "    </tr>\n",
       "    <tr>\n",
       "      <th>2</th>\n",
       "      <td>2019 Toyota Sequoia Platinum</td>\n",
       "      <td>51,999</td>\n",
       "      <td>55,121</td>\n",
       "      <td>4.5</td>\n",
       "      <td>2,092</td>\n",
       "      <td>Great Deal</td>\n",
       "    </tr>\n",
       "    <tr>\n",
       "      <th>3</th>\n",
       "      <td>2019 Toyota Camry SE</td>\n",
       "      <td>25,689</td>\n",
       "      <td>49,126</td>\n",
       "      <td>1.0</td>\n",
       "      <td>1</td>\n",
       "      <td>Good Deal</td>\n",
       "    </tr>\n",
       "    <tr>\n",
       "      <th>4</th>\n",
       "      <td>2017 Toyota Highlander Limited</td>\n",
       "      <td>31,591</td>\n",
       "      <td>84,621</td>\n",
       "      <td>4.9</td>\n",
       "      <td>1,745</td>\n",
       "      <td>Good Deal</td>\n",
       "    </tr>\n",
       "  </tbody>\n",
       "</table>\n",
       "</div>"
      ],
      "text/plain": [
       "                             Name Price($)  Milage  Review Review_count  \\\n",
       "0            2021 Toyota Camry SE   31,150  13,390     4.5          659   \n",
       "1   2021 Toyota Supra 3.0 Premium   58,981   7,348     4.8        2,744   \n",
       "2    2019 Toyota Sequoia Platinum   51,999  55,121     4.5        2,092   \n",
       "3            2019 Toyota Camry SE   25,689  49,126     1.0            1   \n",
       "4  2017 Toyota Highlander Limited   31,591  84,621     4.9        1,745   \n",
       "\n",
       "        Badge  \n",
       "0  Good Deal   \n",
       "1  Great Deal  \n",
       "2  Great Deal  \n",
       "3  Good Deal   \n",
       "4   Good Deal  "
      ]
     },
     "execution_count": 3,
     "metadata": {},
     "output_type": "execute_result"
    }
   ],
   "source": [
    "path = 'D:/Untar/Project/Tableau/Car prize data/Used_Car_Price_Data.csv'\n",
    "cpd = pd.read_csv(path, na_values='n/a')\n",
    "cpd.head()"
   ]
  },
  {
   "cell_type": "code",
   "execution_count": 4,
   "id": "142f86a2",
   "metadata": {},
   "outputs": [
    {
     "data": {
      "text/plain": [
       "<AxesSubplot:>"
      ]
     },
     "execution_count": 4,
     "metadata": {},
     "output_type": "execute_result"
    },
    {
     "data": {
      "image/png": "[encoded data removed]",
      "text/plain": [
       "<Figure size 432x288 with 1 Axes>"
      ]
     },
     "metadata": {
      "needs_background": "light"
     },
     "output_type": "display_data"
    }
   ],
   "source": [
    "sns.heatmap(cpd.isnull(), cbar=False, cmap=\"Blues\", yticklabels=False)"
   ]
  },
  {
   "cell_type": "code",
   "execution_count": 5,
   "id": "660a16c2",
   "metadata": {},
   "outputs": [],
   "source": [
    "cpd.dropna(inplace=True)"
   ]
  },
  {
   "cell_type": "code",
   "execution_count": 6,
   "id": "8dbdfbfa",
   "metadata": {},
   "outputs": [
    {
     "data": {
      "text/html": [
       "<div>\n",
       "<style scoped>\n",
       "    .dataframe tbody tr th:only-of-type {\n",
       "        vertical-align: middle;\n",
       "    }\n",
       "\n",
       "    .dataframe tbody tr th {\n",
       "        vertical-align: top;\n",
       "    }\n",
       "\n",
       "    .dataframe thead th {\n",
       "        text-align: right;\n",
       "    }\n",
       "</style>\n",
       "<table border=\"1\" class=\"dataframe\">\n",
       "  <thead>\n",
       "    <tr style=\"text-align: right;\">\n",
       "      <th></th>\n",
       "      <th>Name</th>\n",
       "      <th>Price($)</th>\n",
       "      <th>Milage</th>\n",
       "      <th>Review</th>\n",
       "      <th>Review_count</th>\n",
       "      <th>Badge</th>\n",
       "    </tr>\n",
       "  </thead>\n",
       "  <tbody>\n",
       "    <tr>\n",
       "      <th>0</th>\n",
       "      <td>False</td>\n",
       "      <td>False</td>\n",
       "      <td>False</td>\n",
       "      <td>False</td>\n",
       "      <td>False</td>\n",
       "      <td>False</td>\n",
       "    </tr>\n",
       "    <tr>\n",
       "      <th>1</th>\n",
       "      <td>False</td>\n",
       "      <td>False</td>\n",
       "      <td>False</td>\n",
       "      <td>False</td>\n",
       "      <td>False</td>\n",
       "      <td>False</td>\n",
       "    </tr>\n",
       "    <tr>\n",
       "      <th>2</th>\n",
       "      <td>False</td>\n",
       "      <td>False</td>\n",
       "      <td>False</td>\n",
       "      <td>False</td>\n",
       "      <td>False</td>\n",
       "      <td>False</td>\n",
       "    </tr>\n",
       "    <tr>\n",
       "      <th>3</th>\n",
       "      <td>False</td>\n",
       "      <td>False</td>\n",
       "      <td>False</td>\n",
       "      <td>False</td>\n",
       "      <td>False</td>\n",
       "      <td>False</td>\n",
       "    </tr>\n",
       "    <tr>\n",
       "      <th>4</th>\n",
       "      <td>False</td>\n",
       "      <td>False</td>\n",
       "      <td>False</td>\n",
       "      <td>False</td>\n",
       "      <td>False</td>\n",
       "      <td>False</td>\n",
       "    </tr>\n",
       "    <tr>\n",
       "      <th>...</th>\n",
       "      <td>...</td>\n",
       "      <td>...</td>\n",
       "      <td>...</td>\n",
       "      <td>...</td>\n",
       "      <td>...</td>\n",
       "      <td>...</td>\n",
       "    </tr>\n",
       "    <tr>\n",
       "      <th>995</th>\n",
       "      <td>False</td>\n",
       "      <td>False</td>\n",
       "      <td>False</td>\n",
       "      <td>False</td>\n",
       "      <td>False</td>\n",
       "      <td>False</td>\n",
       "    </tr>\n",
       "    <tr>\n",
       "      <th>996</th>\n",
       "      <td>False</td>\n",
       "      <td>False</td>\n",
       "      <td>False</td>\n",
       "      <td>False</td>\n",
       "      <td>False</td>\n",
       "      <td>False</td>\n",
       "    </tr>\n",
       "    <tr>\n",
       "      <th>997</th>\n",
       "      <td>False</td>\n",
       "      <td>False</td>\n",
       "      <td>False</td>\n",
       "      <td>False</td>\n",
       "      <td>False</td>\n",
       "      <td>False</td>\n",
       "    </tr>\n",
       "    <tr>\n",
       "      <th>998</th>\n",
       "      <td>False</td>\n",
       "      <td>False</td>\n",
       "      <td>False</td>\n",
       "      <td>False</td>\n",
       "      <td>False</td>\n",
       "      <td>False</td>\n",
       "    </tr>\n",
       "    <tr>\n",
       "      <th>999</th>\n",
       "      <td>False</td>\n",
       "      <td>False</td>\n",
       "      <td>False</td>\n",
       "      <td>False</td>\n",
       "      <td>False</td>\n",
       "      <td>False</td>\n",
       "    </tr>\n",
       "  </tbody>\n",
       "</table>\n",
       "<p>974 rows × 6 columns</p>\n",
       "</div>"
      ],
      "text/plain": [
       "      Name  Price($)  Milage  Review  Review_count  Badge\n",
       "0    False     False   False   False         False  False\n",
       "1    False     False   False   False         False  False\n",
       "2    False     False   False   False         False  False\n",
       "3    False     False   False   False         False  False\n",
       "4    False     False   False   False         False  False\n",
       "..     ...       ...     ...     ...           ...    ...\n",
       "995  False     False   False   False         False  False\n",
       "996  False     False   False   False         False  False\n",
       "997  False     False   False   False         False  False\n",
       "998  False     False   False   False         False  False\n",
       "999  False     False   False   False         False  False\n",
       "\n",
       "[974 rows x 6 columns]"
      ]
     },
     "execution_count": 6,
     "metadata": {},
     "output_type": "execute_result"
    }
   ],
   "source": [
    "pd.isnull(cpd)"
   ]
  },
  {
   "cell_type": "code",
   "execution_count": 7,
   "id": "36618f5e",
   "metadata": {},
   "outputs": [
    {
     "data": {
      "text/plain": [
       "<bound method NDFrame._add_numeric_operations.<locals>.any of       Name  Price($)  Milage  Review  Review_count  Badge\n",
       "0    False     False   False   False         False  False\n",
       "1    False     False   False   False         False  False\n",
       "2    False     False   False   False         False  False\n",
       "3    False     False   False   False         False  False\n",
       "4    False     False   False   False         False  False\n",
       "..     ...       ...     ...     ...           ...    ...\n",
       "995  False     False   False   False         False  False\n",
       "996  False     False   False   False         False  False\n",
       "997  False     False   False   False         False  False\n",
       "998  False     False   False   False         False  False\n",
       "999  False     False   False   False         False  False\n",
       "\n",
       "[974 rows x 6 columns]>"
      ]
     },
     "execution_count": 7,
     "metadata": {},
     "output_type": "execute_result"
    }
   ],
   "source": [
    "cpd.isna().any"
   ]
  },
  {
   "cell_type": "code",
   "execution_count": 8,
   "id": "c6d044e5",
   "metadata": {},
   "outputs": [
    {
     "data": {
      "text/plain": [
       "(974, 6)"
      ]
     },
     "execution_count": 8,
     "metadata": {},
     "output_type": "execute_result"
    }
   ],
   "source": [
    "cpd.shape"
   ]
  },
  {
   "cell_type": "code",
   "execution_count": 9,
   "id": "9ade3050",
   "metadata": {},
   "outputs": [
    {
     "data": {
      "text/html": [
       "<div>\n",
       "<style scoped>\n",
       "    .dataframe tbody tr th:only-of-type {\n",
       "        vertical-align: middle;\n",
       "    }\n",
       "\n",
       "    .dataframe tbody tr th {\n",
       "        vertical-align: top;\n",
       "    }\n",
       "\n",
       "    .dataframe thead th {\n",
       "        text-align: right;\n",
       "    }\n",
       "</style>\n",
       "<table border=\"1\" class=\"dataframe\">\n",
       "  <thead>\n",
       "    <tr style=\"text-align: right;\">\n",
       "      <th></th>\n",
       "      <th>Name</th>\n",
       "      <th>Price($)</th>\n",
       "      <th>Milage</th>\n",
       "      <th>Review</th>\n",
       "      <th>Review_count</th>\n",
       "      <th>Badge</th>\n",
       "    </tr>\n",
       "  </thead>\n",
       "  <tbody>\n",
       "    <tr>\n",
       "      <th>0</th>\n",
       "      <td>2021 Toyota Camry SE</td>\n",
       "      <td>31,150</td>\n",
       "      <td>13,390</td>\n",
       "      <td>4.5</td>\n",
       "      <td>659</td>\n",
       "      <td>Good Deal</td>\n",
       "    </tr>\n",
       "    <tr>\n",
       "      <th>1</th>\n",
       "      <td>2021 Toyota Supra 3.0 Premium</td>\n",
       "      <td>58,981</td>\n",
       "      <td>7,348</td>\n",
       "      <td>4.8</td>\n",
       "      <td>2,744</td>\n",
       "      <td>Great Deal</td>\n",
       "    </tr>\n",
       "    <tr>\n",
       "      <th>2</th>\n",
       "      <td>2019 Toyota Sequoia Platinum</td>\n",
       "      <td>51,999</td>\n",
       "      <td>55,121</td>\n",
       "      <td>4.5</td>\n",
       "      <td>2,092</td>\n",
       "      <td>Great Deal</td>\n",
       "    </tr>\n",
       "    <tr>\n",
       "      <th>3</th>\n",
       "      <td>2019 Toyota Camry SE</td>\n",
       "      <td>25,689</td>\n",
       "      <td>49,126</td>\n",
       "      <td>1.0</td>\n",
       "      <td>1</td>\n",
       "      <td>Good Deal</td>\n",
       "    </tr>\n",
       "    <tr>\n",
       "      <th>4</th>\n",
       "      <td>2017 Toyota Highlander Limited</td>\n",
       "      <td>31,591</td>\n",
       "      <td>84,621</td>\n",
       "      <td>4.9</td>\n",
       "      <td>1,745</td>\n",
       "      <td>Good Deal</td>\n",
       "    </tr>\n",
       "  </tbody>\n",
       "</table>\n",
       "</div>"
      ],
      "text/plain": [
       "                             Name Price($)  Milage  Review Review_count  \\\n",
       "0            2021 Toyota Camry SE   31,150  13,390     4.5          659   \n",
       "1   2021 Toyota Supra 3.0 Premium   58,981   7,348     4.8        2,744   \n",
       "2    2019 Toyota Sequoia Platinum   51,999  55,121     4.5        2,092   \n",
       "3            2019 Toyota Camry SE   25,689  49,126     1.0            1   \n",
       "4  2017 Toyota Highlander Limited   31,591  84,621     4.9        1,745   \n",
       "\n",
       "        Badge  \n",
       "0  Good Deal   \n",
       "1  Great Deal  \n",
       "2  Great Deal  \n",
       "3  Good Deal   \n",
       "4   Good Deal  "
      ]
     },
     "execution_count": 9,
     "metadata": {},
     "output_type": "execute_result"
    }
   ],
   "source": [
    "cpd.head()"
   ]
  },
  {
   "cell_type": "code",
   "execution_count": 10,
   "id": "b9a92cfc",
   "metadata": {},
   "outputs": [
    {
     "data": {
      "text/plain": [
       "Index(['Name', 'Price($)', 'Milage', 'Review', 'Review_count', 'Badge'], dtype='object')"
      ]
     },
     "execution_count": 10,
     "metadata": {},
     "output_type": "execute_result"
    }
   ],
   "source": [
    "cpd.columns"
   ]
  },
  {
   "cell_type": "code",
   "execution_count": 11,
   "id": "ad66b84c",
   "metadata": {},
   "outputs": [
    {
     "data": {
      "text/html": [
       "<div>\n",
       "<style scoped>\n",
       "    .dataframe tbody tr th:only-of-type {\n",
       "        vertical-align: middle;\n",
       "    }\n",
       "\n",
       "    .dataframe tbody tr th {\n",
       "        vertical-align: top;\n",
       "    }\n",
       "\n",
       "    .dataframe thead th {\n",
       "        text-align: right;\n",
       "    }\n",
       "</style>\n",
       "<table border=\"1\" class=\"dataframe\">\n",
       "  <thead>\n",
       "    <tr style=\"text-align: right;\">\n",
       "      <th></th>\n",
       "      <th>Name</th>\n",
       "      <th>Price($)</th>\n",
       "      <th>Milage</th>\n",
       "      <th>Review</th>\n",
       "      <th>Review_count</th>\n",
       "      <th>Badge</th>\n",
       "    </tr>\n",
       "  </thead>\n",
       "  <tbody>\n",
       "    <tr>\n",
       "      <th>0</th>\n",
       "      <td>False</td>\n",
       "      <td>False</td>\n",
       "      <td>False</td>\n",
       "      <td>False</td>\n",
       "      <td>False</td>\n",
       "      <td>False</td>\n",
       "    </tr>\n",
       "    <tr>\n",
       "      <th>1</th>\n",
       "      <td>False</td>\n",
       "      <td>False</td>\n",
       "      <td>False</td>\n",
       "      <td>False</td>\n",
       "      <td>False</td>\n",
       "      <td>False</td>\n",
       "    </tr>\n",
       "    <tr>\n",
       "      <th>2</th>\n",
       "      <td>False</td>\n",
       "      <td>False</td>\n",
       "      <td>False</td>\n",
       "      <td>False</td>\n",
       "      <td>False</td>\n",
       "      <td>False</td>\n",
       "    </tr>\n",
       "    <tr>\n",
       "      <th>3</th>\n",
       "      <td>False</td>\n",
       "      <td>False</td>\n",
       "      <td>False</td>\n",
       "      <td>False</td>\n",
       "      <td>False</td>\n",
       "      <td>False</td>\n",
       "    </tr>\n",
       "    <tr>\n",
       "      <th>4</th>\n",
       "      <td>False</td>\n",
       "      <td>False</td>\n",
       "      <td>False</td>\n",
       "      <td>False</td>\n",
       "      <td>False</td>\n",
       "      <td>False</td>\n",
       "    </tr>\n",
       "    <tr>\n",
       "      <th>...</th>\n",
       "      <td>...</td>\n",
       "      <td>...</td>\n",
       "      <td>...</td>\n",
       "      <td>...</td>\n",
       "      <td>...</td>\n",
       "      <td>...</td>\n",
       "    </tr>\n",
       "    <tr>\n",
       "      <th>995</th>\n",
       "      <td>False</td>\n",
       "      <td>False</td>\n",
       "      <td>False</td>\n",
       "      <td>False</td>\n",
       "      <td>False</td>\n",
       "      <td>False</td>\n",
       "    </tr>\n",
       "    <tr>\n",
       "      <th>996</th>\n",
       "      <td>False</td>\n",
       "      <td>False</td>\n",
       "      <td>False</td>\n",
       "      <td>False</td>\n",
       "      <td>False</td>\n",
       "      <td>False</td>\n",
       "    </tr>\n",
       "    <tr>\n",
       "      <th>997</th>\n",
       "      <td>False</td>\n",
       "      <td>False</td>\n",
       "      <td>False</td>\n",
       "      <td>False</td>\n",
       "      <td>False</td>\n",
       "      <td>False</td>\n",
       "    </tr>\n",
       "    <tr>\n",
       "      <th>998</th>\n",
       "      <td>False</td>\n",
       "      <td>False</td>\n",
       "      <td>False</td>\n",
       "      <td>False</td>\n",
       "      <td>False</td>\n",
       "      <td>False</td>\n",
       "    </tr>\n",
       "    <tr>\n",
       "      <th>999</th>\n",
       "      <td>False</td>\n",
       "      <td>False</td>\n",
       "      <td>False</td>\n",
       "      <td>False</td>\n",
       "      <td>False</td>\n",
       "      <td>False</td>\n",
       "    </tr>\n",
       "  </tbody>\n",
       "</table>\n",
       "<p>974 rows × 6 columns</p>\n",
       "</div>"
      ],
      "text/plain": [
       "      Name  Price($)  Milage  Review  Review_count  Badge\n",
       "0    False     False   False   False         False  False\n",
       "1    False     False   False   False         False  False\n",
       "2    False     False   False   False         False  False\n",
       "3    False     False   False   False         False  False\n",
       "4    False     False   False   False         False  False\n",
       "..     ...       ...     ...     ...           ...    ...\n",
       "995  False     False   False   False         False  False\n",
       "996  False     False   False   False         False  False\n",
       "997  False     False   False   False         False  False\n",
       "998  False     False   False   False         False  False\n",
       "999  False     False   False   False         False  False\n",
       "\n",
       "[974 rows x 6 columns]"
      ]
     },
     "execution_count": 11,
     "metadata": {},
     "output_type": "execute_result"
    }
   ],
   "source": [
    "pd.isnull(cpd)"
   ]
  },
  {
   "cell_type": "code",
   "execution_count": 12,
   "id": "7cffabd3",
   "metadata": {},
   "outputs": [],
   "source": [
    "cpd=cpd.dropna()"
   ]
  },
  {
   "cell_type": "code",
   "execution_count": 13,
   "id": "e3b14e44",
   "metadata": {},
   "outputs": [
    {
     "data": {
      "text/plain": [
       "(974, 6)"
      ]
     },
     "execution_count": 13,
     "metadata": {},
     "output_type": "execute_result"
    }
   ],
   "source": [
    "cpd.shape"
   ]
  },
  {
   "cell_type": "code",
   "execution_count": 15,
   "id": "d6853078",
   "metadata": {},
   "outputs": [
    {
     "data": {
      "text/html": [
       "<div>\n",
       "<style scoped>\n",
       "    .dataframe tbody tr th:only-of-type {\n",
       "        vertical-align: middle;\n",
       "    }\n",
       "\n",
       "    .dataframe tbody tr th {\n",
       "        vertical-align: top;\n",
       "    }\n",
       "\n",
       "    .dataframe thead th {\n",
       "        text-align: right;\n",
       "    }\n",
       "</style>\n",
       "<table border=\"1\" class=\"dataframe\">\n",
       "  <thead>\n",
       "    <tr style=\"text-align: right;\">\n",
       "      <th></th>\n",
       "      <th>Name</th>\n",
       "      <th>Price($)</th>\n",
       "      <th>Milage</th>\n",
       "      <th>Review</th>\n",
       "      <th>Review_count</th>\n",
       "      <th>Badge</th>\n",
       "    </tr>\n",
       "  </thead>\n",
       "  <tbody>\n",
       "    <tr>\n",
       "      <th>0</th>\n",
       "      <td>2021 Toyota Camry SE</td>\n",
       "      <td>31,150</td>\n",
       "      <td>13,390</td>\n",
       "      <td>4.5</td>\n",
       "      <td>659</td>\n",
       "      <td>Good Deal</td>\n",
       "    </tr>\n",
       "    <tr>\n",
       "      <th>1</th>\n",
       "      <td>2021 Toyota Supra 3.0 Premium</td>\n",
       "      <td>58,981</td>\n",
       "      <td>7,348</td>\n",
       "      <td>4.8</td>\n",
       "      <td>2,744</td>\n",
       "      <td>Great Deal</td>\n",
       "    </tr>\n",
       "    <tr>\n",
       "      <th>2</th>\n",
       "      <td>2019 Toyota Sequoia Platinum</td>\n",
       "      <td>51,999</td>\n",
       "      <td>55,121</td>\n",
       "      <td>4.5</td>\n",
       "      <td>2,092</td>\n",
       "      <td>Great Deal</td>\n",
       "    </tr>\n",
       "    <tr>\n",
       "      <th>3</th>\n",
       "      <td>2019 Toyota Camry SE</td>\n",
       "      <td>25,689</td>\n",
       "      <td>49,126</td>\n",
       "      <td>1.0</td>\n",
       "      <td>1</td>\n",
       "      <td>Good Deal</td>\n",
       "    </tr>\n",
       "    <tr>\n",
       "      <th>4</th>\n",
       "      <td>2017 Toyota Highlander Limited</td>\n",
       "      <td>31,591</td>\n",
       "      <td>84,621</td>\n",
       "      <td>4.9</td>\n",
       "      <td>1,745</td>\n",
       "      <td>Good Deal</td>\n",
       "    </tr>\n",
       "  </tbody>\n",
       "</table>\n",
       "</div>"
      ],
      "text/plain": [
       "                             Name Price($)  Milage  Review Review_count  \\\n",
       "0            2021 Toyota Camry SE   31,150  13,390     4.5          659   \n",
       "1   2021 Toyota Supra 3.0 Premium   58,981   7,348     4.8        2,744   \n",
       "2    2019 Toyota Sequoia Platinum   51,999  55,121     4.5        2,092   \n",
       "3            2019 Toyota Camry SE   25,689  49,126     1.0            1   \n",
       "4  2017 Toyota Highlander Limited   31,591  84,621     4.9        1,745   \n",
       "\n",
       "        Badge  \n",
       "0  Good Deal   \n",
       "1  Great Deal  \n",
       "2  Great Deal  \n",
       "3  Good Deal   \n",
       "4   Good Deal  "
      ]
     },
     "execution_count": 15,
     "metadata": {},
     "output_type": "execute_result"
    }
   ],
   "source": [
    "cpd.head()"
   ]
  },
  {
   "cell_type": "code",
   "execution_count": 16,
   "id": "a8f7c5e3",
   "metadata": {},
   "outputs": [],
   "source": [
    "cpd['Price($)'] = cpd['Price($)'].apply(lambda x: int(''.join(x.split(','))))"
   ]
  },
  {
   "cell_type": "code",
   "execution_count": 17,
   "id": "9d137efe",
   "metadata": {},
   "outputs": [],
   "source": [
    "cpd['Milage'] = cpd['Milage'].apply(lambda x: int(''.join(x.split(','))))"
   ]
  },
  {
   "cell_type": "code",
   "execution_count": 18,
   "id": "420f5c8d",
   "metadata": {},
   "outputs": [],
   "source": [
    "cpd['Review_count'] = cpd['Review_count'].apply(lambda x: int(''.join(x.split(','))))"
   ]
  },
  {
   "cell_type": "code",
   "execution_count": 20,
   "id": "cbbdf371",
   "metadata": {},
   "outputs": [
    {
     "data": {
      "text/html": [
       "<div>\n",
       "<style scoped>\n",
       "    .dataframe tbody tr th:only-of-type {\n",
       "        vertical-align: middle;\n",
       "    }\n",
       "\n",
       "    .dataframe tbody tr th {\n",
       "        vertical-align: top;\n",
       "    }\n",
       "\n",
       "    .dataframe thead th {\n",
       "        text-align: right;\n",
       "    }\n",
       "</style>\n",
       "<table border=\"1\" class=\"dataframe\">\n",
       "  <thead>\n",
       "    <tr style=\"text-align: right;\">\n",
       "      <th></th>\n",
       "      <th>Name</th>\n",
       "      <th>Price($)</th>\n",
       "      <th>Milage</th>\n",
       "      <th>Review</th>\n",
       "      <th>Review_count</th>\n",
       "      <th>Badge</th>\n",
       "    </tr>\n",
       "  </thead>\n",
       "  <tbody>\n",
       "    <tr>\n",
       "      <th>0</th>\n",
       "      <td>2021 Toyota Camry SE</td>\n",
       "      <td>31150</td>\n",
       "      <td>13390</td>\n",
       "      <td>4.5</td>\n",
       "      <td>659</td>\n",
       "      <td>Good Deal</td>\n",
       "    </tr>\n",
       "    <tr>\n",
       "      <th>1</th>\n",
       "      <td>2021 Toyota Supra 3.0 Premium</td>\n",
       "      <td>58981</td>\n",
       "      <td>7348</td>\n",
       "      <td>4.8</td>\n",
       "      <td>2744</td>\n",
       "      <td>Great Deal</td>\n",
       "    </tr>\n",
       "    <tr>\n",
       "      <th>2</th>\n",
       "      <td>2019 Toyota Sequoia Platinum</td>\n",
       "      <td>51999</td>\n",
       "      <td>55121</td>\n",
       "      <td>4.5</td>\n",
       "      <td>2092</td>\n",
       "      <td>Great Deal</td>\n",
       "    </tr>\n",
       "    <tr>\n",
       "      <th>3</th>\n",
       "      <td>2019 Toyota Camry SE</td>\n",
       "      <td>25689</td>\n",
       "      <td>49126</td>\n",
       "      <td>1.0</td>\n",
       "      <td>1</td>\n",
       "      <td>Good Deal</td>\n",
       "    </tr>\n",
       "    <tr>\n",
       "      <th>4</th>\n",
       "      <td>2017 Toyota Highlander Limited</td>\n",
       "      <td>31591</td>\n",
       "      <td>84621</td>\n",
       "      <td>4.9</td>\n",
       "      <td>1745</td>\n",
       "      <td>Good Deal</td>\n",
       "    </tr>\n",
       "  </tbody>\n",
       "</table>\n",
       "</div>"
      ],
      "text/plain": [
       "                             Name  Price($)  Milage  Review  Review_count  \\\n",
       "0            2021 Toyota Camry SE     31150   13390     4.5           659   \n",
       "1   2021 Toyota Supra 3.0 Premium     58981    7348     4.8          2744   \n",
       "2    2019 Toyota Sequoia Platinum     51999   55121     4.5          2092   \n",
       "3            2019 Toyota Camry SE     25689   49126     1.0             1   \n",
       "4  2017 Toyota Highlander Limited     31591   84621     4.9          1745   \n",
       "\n",
       "        Badge  \n",
       "0  Good Deal   \n",
       "1  Great Deal  \n",
       "2  Great Deal  \n",
       "3  Good Deal   \n",
       "4   Good Deal  "
      ]
     },
     "execution_count": 20,
     "metadata": {},
     "output_type": "execute_result"
    }
   ],
   "source": [
    "cpd.head()"
   ]
  },
  {
   "cell_type": "code",
   "execution_count": 21,
   "id": "6b9dd519",
   "metadata": {},
   "outputs": [],
   "source": [
    "cpd['Year'] = cpd['Name'].apply(lambda x: x[0:4])"
   ]
  },
  {
   "cell_type": "code",
   "execution_count": 22,
   "id": "9ae9eb08",
   "metadata": {},
   "outputs": [
    {
     "data": {
      "text/html": [
       "<div>\n",
       "<style scoped>\n",
       "    .dataframe tbody tr th:only-of-type {\n",
       "        vertical-align: middle;\n",
       "    }\n",
       "\n",
       "    .dataframe tbody tr th {\n",
       "        vertical-align: top;\n",
       "    }\n",
       "\n",
       "    .dataframe thead th {\n",
       "        text-align: right;\n",
       "    }\n",
       "</style>\n",
       "<table border=\"1\" class=\"dataframe\">\n",
       "  <thead>\n",
       "    <tr style=\"text-align: right;\">\n",
       "      <th></th>\n",
       "      <th>Name</th>\n",
       "      <th>Price($)</th>\n",
       "      <th>Milage</th>\n",
       "      <th>Review</th>\n",
       "      <th>Review_count</th>\n",
       "      <th>Badge</th>\n",
       "      <th>Year</th>\n",
       "    </tr>\n",
       "  </thead>\n",
       "  <tbody>\n",
       "    <tr>\n",
       "      <th>0</th>\n",
       "      <td>2021 Toyota Camry SE</td>\n",
       "      <td>31150</td>\n",
       "      <td>13390</td>\n",
       "      <td>4.5</td>\n",
       "      <td>659</td>\n",
       "      <td>Good Deal</td>\n",
       "      <td>2021</td>\n",
       "    </tr>\n",
       "    <tr>\n",
       "      <th>1</th>\n",
       "      <td>2021 Toyota Supra 3.0 Premium</td>\n",
       "      <td>58981</td>\n",
       "      <td>7348</td>\n",
       "      <td>4.8</td>\n",
       "      <td>2744</td>\n",
       "      <td>Great Deal</td>\n",
       "      <td>2021</td>\n",
       "    </tr>\n",
       "    <tr>\n",
       "      <th>2</th>\n",
       "      <td>2019 Toyota Sequoia Platinum</td>\n",
       "      <td>51999</td>\n",
       "      <td>55121</td>\n",
       "      <td>4.5</td>\n",
       "      <td>2092</td>\n",
       "      <td>Great Deal</td>\n",
       "      <td>2019</td>\n",
       "    </tr>\n",
       "    <tr>\n",
       "      <th>3</th>\n",
       "      <td>2019 Toyota Camry SE</td>\n",
       "      <td>25689</td>\n",
       "      <td>49126</td>\n",
       "      <td>1.0</td>\n",
       "      <td>1</td>\n",
       "      <td>Good Deal</td>\n",
       "      <td>2019</td>\n",
       "    </tr>\n",
       "    <tr>\n",
       "      <th>4</th>\n",
       "      <td>2017 Toyota Highlander Limited</td>\n",
       "      <td>31591</td>\n",
       "      <td>84621</td>\n",
       "      <td>4.9</td>\n",
       "      <td>1745</td>\n",
       "      <td>Good Deal</td>\n",
       "      <td>2017</td>\n",
       "    </tr>\n",
       "  </tbody>\n",
       "</table>\n",
       "</div>"
      ],
      "text/plain": [
       "                             Name  Price($)  Milage  Review  Review_count  \\\n",
       "0            2021 Toyota Camry SE     31150   13390     4.5           659   \n",
       "1   2021 Toyota Supra 3.0 Premium     58981    7348     4.8          2744   \n",
       "2    2019 Toyota Sequoia Platinum     51999   55121     4.5          2092   \n",
       "3            2019 Toyota Camry SE     25689   49126     1.0             1   \n",
       "4  2017 Toyota Highlander Limited     31591   84621     4.9          1745   \n",
       "\n",
       "        Badge  Year  \n",
       "0  Good Deal   2021  \n",
       "1  Great Deal  2021  \n",
       "2  Great Deal  2019  \n",
       "3  Good Deal   2019  \n",
       "4   Good Deal  2017  "
      ]
     },
     "execution_count": 22,
     "metadata": {},
     "output_type": "execute_result"
    }
   ],
   "source": [
    "cpd.head()"
   ]
  },
  {
   "cell_type": "code",
   "execution_count": 24,
   "id": "180fa452",
   "metadata": {},
   "outputs": [
    {
     "data": {
      "text/plain": [
       "<AxesSubplot:>"
      ]
     },
     "execution_count": 24,
     "metadata": {},
     "output_type": "execute_result"
    },
    {
     "data": {
      "image/png": "[encoded data removed]",
      "text/plain": [
       "<Figure size 432x288 with 1 Axes>"
      ]
     },
     "metadata": {
      "needs_background": "light"
     },
     "output_type": "display_data"
    }
   ],
   "source": [
    "sns.heatmap(cpd.isnull(), cbar=False, cmap=\"Blues\", yticklabels=False)"
   ]
  },
  {
   "cell_type": "code",
   "execution_count": 23,
   "id": "fd21c4bc",
   "metadata": {},
   "outputs": [],
   "source": [
    "cpd.to_csv(\"CarPrizeData_V2.csv\")"
   ]
  }
 ],
 "metadata": {
  "kernelspec": {
   "display_name": "Python 3",
   "language": "python",
   "name": "python3"
  },
  "language_info": {
   "codemirror_mode": {
    "name": "ipython",
    "version": 3
   },
   "file_extension": ".py",
   "mimetype": "text/x-python",
   "name": "python",
   "nbconvert_exporter": "python",
   "pygments_lexer": "ipython3",
   "version": "3.8.8"
  }
 },
 "nbformat": 4,
 "nbformat_minor": 5
}
